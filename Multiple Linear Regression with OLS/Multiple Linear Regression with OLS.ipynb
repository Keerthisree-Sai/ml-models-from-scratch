{
 "cells": [
  {
   "cell_type": "code",
   "execution_count": 1,
   "id": "3897c4ed-6b80-4fb3-a11b-7e4c5c261b17",
   "metadata": {},
   "outputs": [],
   "source": [
    "import numpy as np"
   ]
  },
  {
   "cell_type": "code",
   "execution_count": 2,
   "id": "dc2f1fbe-9d90-4cc1-aaa3-f61190e04868",
   "metadata": {},
   "outputs": [],
   "source": [
    "# Multiple Linear Regression using OLS method\n",
    "class MultipleLinearRegressionwithOLS:\n",
    "    def __init__(self):\n",
    "        self.coef_ = None\n",
    "        self.intercept_ = None\n",
    "    def fit(self, X_train, y_train):\n",
    "        # Add a column of ones to X_train for the intercept\n",
    "        X_train = np.insert(X_train, 0, 1, axis=1)\n",
    "        # Calculate the beta matrix using OLS formula\n",
    "        beta_matrix = np.linalg.inv(np.dot(X_train.T, X_train)).dot(X_train.T).dot(y_train)\n",
    "        self.intercept_ = beta_matrix[0]\n",
    "        self.coef_ = beta_matrix[1:]\n",
    "    def predict(self, X_test):\n",
    "        # Add a column of ones to X_test for the intercept\n",
    "        X_test = np.insert(X_test, 0, 1, axis=1)\n",
    "        # Calculate predictions\n",
    "        y_pred = np.dot(X_test, np.append(self.intercept_, self.coef_))\n",
    "        return y_pred"
   ]
  }
 ],
 "metadata": {
  "kernelspec": {
   "display_name": "Python 3 (ipykernel)",
   "language": "python",
   "name": "python3"
  },
  "language_info": {
   "codemirror_mode": {
    "name": "ipython",
    "version": 3
   },
   "file_extension": ".py",
   "mimetype": "text/x-python",
   "name": "python",
   "nbconvert_exporter": "python",
   "pygments_lexer": "ipython3",
   "version": "3.10.4"
  }
 },
 "nbformat": 4,
 "nbformat_minor": 5
}
