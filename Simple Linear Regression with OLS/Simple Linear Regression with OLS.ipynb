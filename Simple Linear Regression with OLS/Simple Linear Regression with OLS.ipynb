{
 "cells": [
  {
   "cell_type": "code",
   "execution_count": 1,
   "id": "21ae7c38-a991-44e3-8a0e-336ba476922e",
   "metadata": {},
   "outputs": [],
   "source": [
    "# Simple Linear Regression class using OLS method\n",
    "class SimpleLRwithOLS:\n",
    "    def __init__(self):\n",
    "        self.m = None\n",
    "        self.b = None\n",
    "    def fit(self, X_train, y_train):\n",
    "        numerator = 0\n",
    "        denominator = 0\n",
    "        X_train_mean = X_train.mean()\n",
    "        y_train_mean = y_train.mean()\n",
    "        for i in range(X_train.shape[0]):\n",
    "            numerator += (X_train[i] - X_train_mean)*(y_train[i] - y_train_mean)\n",
    "            denominator += (X_train[i] - X_train_mean)*(X_train[i] - X_train_mean)\n",
    "        self.m = numerator/denominator\n",
    "        self.b = y_train_mean - (self.m*X_train_mean)\n",
    "        print(self.m)\n",
    "        print(self.b)\n",
    "    def predict(self, X_test):\n",
    "        return self.m*X_test + self.b"
   ]
  }
 ],
 "metadata": {
  "kernelspec": {
   "display_name": "Python 3 (ipykernel)",
   "language": "python",
   "name": "python3"
  },
  "language_info": {
   "codemirror_mode": {
    "name": "ipython",
    "version": 3
   },
   "file_extension": ".py",
   "mimetype": "text/x-python",
   "name": "python",
   "nbconvert_exporter": "python",
   "pygments_lexer": "ipython3",
   "version": "3.10.4"
  }
 },
 "nbformat": 4,
 "nbformat_minor": 5
}
